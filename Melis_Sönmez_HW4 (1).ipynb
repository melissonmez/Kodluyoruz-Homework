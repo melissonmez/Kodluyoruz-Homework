{
 "cells": [
  {
   "cell_type": "markdown",
   "metadata": {},
   "source": [
    "## Melis Sönmez"
   ]
  },
  {
   "cell_type": "markdown",
   "metadata": {},
   "source": [
    "### Homework 4"
   ]
  },
  {
   "cell_type": "code",
   "execution_count": null,
   "metadata": {},
   "outputs": [],
   "source": [
    "import numpy as np\n",
    "import pandas as pd\n",
    "from matplotlib import pyplot as pl"
   ]
  },
  {
   "cell_type": "code",
   "execution_count": 3,
   "metadata": {},
   "outputs": [
    {
     "name": "stdout",
     "output_type": "stream",
     "text": [
      "<_io.TextIOWrapper name='genius_hip_hop_lyrics.csv' mode='r' encoding='UTF-8'>\n"
     ]
    }
   ],
   "source": [
    "with open(\"genius_hip_hop_lyrics.csv\") as f:\n",
    "    print(f)\n",
    "### encoding'i UTF-8 olarak göstermesine rağmen aşağıda da yaptığım\n",
    "### gibi encoding'i değiştirmeden basmıyor."
   ]
  },
  {
   "cell_type": "code",
   "execution_count": 26,
   "metadata": {},
   "outputs": [],
   "source": [
    "df = pd.read_csv(\"genius_hip_hop_lyrics.csv\", encoding='latin-1', engine=\"python\")"
   ]
  },
  {
   "cell_type": "code",
   "execution_count": 5,
   "metadata": {},
   "outputs": [
    {
     "data": {
      "text/plain": [
       "(377, 9)"
      ]
     },
     "execution_count": 5,
     "metadata": {},
     "output_type": "execute_result"
    }
   ],
   "source": [
    "df.shape"
   ]
  },
  {
   "cell_type": "code",
   "execution_count": 6,
   "metadata": {},
   "outputs": [
    {
     "name": "stdout",
     "output_type": "stream",
     "text": [
      "<class 'pandas.core.frame.DataFrame'>\n",
      "RangeIndex: 377 entries, 0 to 376\n",
      "Data columns (total 9 columns):\n",
      " #   Column              Non-Null Count  Dtype \n",
      "---  ------              --------------  ----- \n",
      " 0   id                  377 non-null    int64 \n",
      " 1   candidate           377 non-null    object\n",
      " 2   song                377 non-null    object\n",
      " 3   artist              377 non-null    object\n",
      " 4   sentiment           377 non-null    object\n",
      " 5   theme               298 non-null    object\n",
      " 6   album_release_date  377 non-null    int64 \n",
      " 7   line                377 non-null    object\n",
      " 8   url                 377 non-null    object\n",
      "dtypes: int64(2), object(7)\n",
      "memory usage: 26.6+ KB\n"
     ]
    }
   ],
   "source": [
    "df.info()"
   ]
  },
  {
   "cell_type": "code",
   "execution_count": 53,
   "metadata": {},
   "outputs": [],
   "source": [
    "pd.set_option(\"display.max_columns\", df.shape[1])"
   ]
  },
  {
   "cell_type": "code",
   "execution_count": 54,
   "metadata": {},
   "outputs": [
    {
     "data": {
      "text/html": [
       "<div>\n",
       "<style scoped>\n",
       "    .dataframe tbody tr th:only-of-type {\n",
       "        vertical-align: middle;\n",
       "    }\n",
       "\n",
       "    .dataframe tbody tr th {\n",
       "        vertical-align: top;\n",
       "    }\n",
       "\n",
       "    .dataframe thead th {\n",
       "        text-align: right;\n",
       "    }\n",
       "</style>\n",
       "<table border=\"1\" class=\"dataframe\">\n",
       "  <thead>\n",
       "    <tr style=\"text-align: right;\">\n",
       "      <th></th>\n",
       "      <th>id</th>\n",
       "      <th>candidate</th>\n",
       "      <th>song</th>\n",
       "      <th>artist</th>\n",
       "      <th>sentiment</th>\n",
       "      <th>theme</th>\n",
       "      <th>album_release_date</th>\n",
       "      <th>line</th>\n",
       "      <th>url</th>\n",
       "    </tr>\n",
       "  </thead>\n",
       "  <tbody>\n",
       "    <tr>\n",
       "      <th>0</th>\n",
       "      <td>1</td>\n",
       "      <td>Mike Huckabee</td>\n",
       "      <td>None Shall Pass</td>\n",
       "      <td>Aesop Rock</td>\n",
       "      <td>neutral</td>\n",
       "      <td>NaN</td>\n",
       "      <td>2011</td>\n",
       "      <td>Wither by the watering hole, Border patrol / W...</td>\n",
       "      <td>http://genius.com/Aesop-rock-none-shall-pass-l...</td>\n",
       "    </tr>\n",
       "    <tr>\n",
       "      <th>1</th>\n",
       "      <td>2</td>\n",
       "      <td>Mike Huckabee</td>\n",
       "      <td>Wellstone</td>\n",
       "      <td>Soul Khan</td>\n",
       "      <td>negative</td>\n",
       "      <td>NaN</td>\n",
       "      <td>2012</td>\n",
       "      <td>Might find the door but never touch the key / ...</td>\n",
       "      <td>http://genius.com/Soul-khan-wellstone-lyrics</td>\n",
       "    </tr>\n",
       "    <tr>\n",
       "      <th>2</th>\n",
       "      <td>3</td>\n",
       "      <td>Jeb Bush</td>\n",
       "      <td>Awe</td>\n",
       "      <td>Dez &amp; Nobs</td>\n",
       "      <td>neutral</td>\n",
       "      <td>NaN</td>\n",
       "      <td>2006</td>\n",
       "      <td>I heard Jeb Bush looking for a (inaudible)</td>\n",
       "      <td>http://genius.com/Dez-and-nobs-awe-lyrics</td>\n",
       "    </tr>\n",
       "    <tr>\n",
       "      <th>3</th>\n",
       "      <td>4</td>\n",
       "      <td>Jeb Bush</td>\n",
       "      <td>The Truth</td>\n",
       "      <td>Diabolic</td>\n",
       "      <td>negative</td>\n",
       "      <td>political</td>\n",
       "      <td>2006</td>\n",
       "      <td>What you heard before ain't as big of a lesson...</td>\n",
       "      <td>http://genius.com/Diabolic-the-truth-lyrics</td>\n",
       "    </tr>\n",
       "    <tr>\n",
       "      <th>4</th>\n",
       "      <td>5</td>\n",
       "      <td>Jeb Bush</td>\n",
       "      <td>Money Man</td>\n",
       "      <td>Gorilla Zoe</td>\n",
       "      <td>negative</td>\n",
       "      <td>personal</td>\n",
       "      <td>2007</td>\n",
       "      <td>I'm comin back from Florida / Wit Jeb Bush and...</td>\n",
       "      <td>http://genius.com/Gorilla-zoe-money-man-lyrics</td>\n",
       "    </tr>\n",
       "  </tbody>\n",
       "</table>\n",
       "</div>"
      ],
      "text/plain": [
       "   id      candidate             song       artist sentiment      theme  \\\n",
       "0   1  Mike Huckabee  None Shall Pass   Aesop Rock   neutral        NaN   \n",
       "1   2  Mike Huckabee        Wellstone    Soul Khan  negative        NaN   \n",
       "2   3       Jeb Bush              Awe   Dez & Nobs   neutral        NaN   \n",
       "3   4       Jeb Bush        The Truth     Diabolic  negative  political   \n",
       "4   5       Jeb Bush        Money Man  Gorilla Zoe  negative   personal   \n",
       "\n",
       "   album_release_date                                               line  \\\n",
       "0                2011  Wither by the watering hole, Border patrol / W...   \n",
       "1                2012  Might find the door but never touch the key / ...   \n",
       "2                2006         I heard Jeb Bush looking for a (inaudible)   \n",
       "3                2006  What you heard before ain't as big of a lesson...   \n",
       "4                2007  I'm comin back from Florida / Wit Jeb Bush and...   \n",
       "\n",
       "                                                 url  \n",
       "0  http://genius.com/Aesop-rock-none-shall-pass-l...  \n",
       "1       http://genius.com/Soul-khan-wellstone-lyrics  \n",
       "2          http://genius.com/Dez-and-nobs-awe-lyrics  \n",
       "3        http://genius.com/Diabolic-the-truth-lyrics  \n",
       "4     http://genius.com/Gorilla-zoe-money-man-lyrics  "
      ]
     },
     "execution_count": 54,
     "metadata": {},
     "output_type": "execute_result"
    }
   ],
   "source": [
    "df.head()"
   ]
  },
  {
   "cell_type": "code",
   "execution_count": 55,
   "metadata": {},
   "outputs": [],
   "source": [
    "pd.set_option(\"display.max_rows\", df.shape[1])"
   ]
  },
  {
   "cell_type": "code",
   "execution_count": 56,
   "metadata": {},
   "outputs": [
    {
     "data": {
      "text/html": [
       "<div>\n",
       "<style scoped>\n",
       "    .dataframe tbody tr th:only-of-type {\n",
       "        vertical-align: middle;\n",
       "    }\n",
       "\n",
       "    .dataframe tbody tr th {\n",
       "        vertical-align: top;\n",
       "    }\n",
       "\n",
       "    .dataframe thead th {\n",
       "        text-align: right;\n",
       "    }\n",
       "</style>\n",
       "<table border=\"1\" class=\"dataframe\">\n",
       "  <thead>\n",
       "    <tr style=\"text-align: right;\">\n",
       "      <th></th>\n",
       "      <th>id</th>\n",
       "      <th>candidate</th>\n",
       "      <th>song</th>\n",
       "      <th>artist</th>\n",
       "      <th>sentiment</th>\n",
       "      <th>theme</th>\n",
       "      <th>album_release_date</th>\n",
       "      <th>line</th>\n",
       "      <th>url</th>\n",
       "    </tr>\n",
       "  </thead>\n",
       "  <tbody>\n",
       "    <tr>\n",
       "      <th>0</th>\n",
       "      <td>1</td>\n",
       "      <td>Mike Huckabee</td>\n",
       "      <td>None Shall Pass</td>\n",
       "      <td>Aesop Rock</td>\n",
       "      <td>neutral</td>\n",
       "      <td>NaN</td>\n",
       "      <td>2011</td>\n",
       "      <td>Wither by the watering hole, Border patrol / W...</td>\n",
       "      <td>http://genius.com/Aesop-rock-none-shall-pass-l...</td>\n",
       "    </tr>\n",
       "    <tr>\n",
       "      <th>1</th>\n",
       "      <td>2</td>\n",
       "      <td>Mike Huckabee</td>\n",
       "      <td>Wellstone</td>\n",
       "      <td>Soul Khan</td>\n",
       "      <td>negative</td>\n",
       "      <td>NaN</td>\n",
       "      <td>2012</td>\n",
       "      <td>Might find the door but never touch the key / ...</td>\n",
       "      <td>http://genius.com/Soul-khan-wellstone-lyrics</td>\n",
       "    </tr>\n",
       "    <tr>\n",
       "      <th>2</th>\n",
       "      <td>3</td>\n",
       "      <td>Jeb Bush</td>\n",
       "      <td>Awe</td>\n",
       "      <td>Dez &amp; Nobs</td>\n",
       "      <td>neutral</td>\n",
       "      <td>NaN</td>\n",
       "      <td>2006</td>\n",
       "      <td>I heard Jeb Bush looking for a (inaudible)</td>\n",
       "      <td>http://genius.com/Dez-and-nobs-awe-lyrics</td>\n",
       "    </tr>\n",
       "    <tr>\n",
       "      <th>3</th>\n",
       "      <td>4</td>\n",
       "      <td>Jeb Bush</td>\n",
       "      <td>The Truth</td>\n",
       "      <td>Diabolic</td>\n",
       "      <td>negative</td>\n",
       "      <td>political</td>\n",
       "      <td>2006</td>\n",
       "      <td>What you heard before ain't as big of a lesson...</td>\n",
       "      <td>http://genius.com/Diabolic-the-truth-lyrics</td>\n",
       "    </tr>\n",
       "    <tr>\n",
       "      <th>...</th>\n",
       "      <td>...</td>\n",
       "      <td>...</td>\n",
       "      <td>...</td>\n",
       "      <td>...</td>\n",
       "      <td>...</td>\n",
       "      <td>...</td>\n",
       "      <td>...</td>\n",
       "      <td>...</td>\n",
       "      <td>...</td>\n",
       "    </tr>\n",
       "    <tr>\n",
       "      <th>373</th>\n",
       "      <td>375</td>\n",
       "      <td>Donald Trump</td>\n",
       "      <td>Digest It</td>\n",
       "      <td>Tiara</td>\n",
       "      <td>negative</td>\n",
       "      <td>political</td>\n",
       "      <td>2016</td>\n",
       "      <td>The world gon' end real soon, especially if Tr...</td>\n",
       "      <td>http://genius.com/Royce-da-59-digest-it-lyrics</td>\n",
       "    </tr>\n",
       "    <tr>\n",
       "      <th>374</th>\n",
       "      <td>376</td>\n",
       "      <td>Donald Trump</td>\n",
       "      <td>Constantly Hating</td>\n",
       "      <td>Young Thug</td>\n",
       "      <td>positive</td>\n",
       "      <td>money</td>\n",
       "      <td>2015</td>\n",
       "      <td>I've seen more holes than a golf course on Don...</td>\n",
       "      <td>http://genius.com/Young-thug-constantly-hating...</td>\n",
       "    </tr>\n",
       "    <tr>\n",
       "      <th>375</th>\n",
       "      <td>377</td>\n",
       "      <td>Donald Trump</td>\n",
       "      <td>FDT (Fuck Donald Trump)</td>\n",
       "      <td>YG &amp; Nipsey Hussle</td>\n",
       "      <td>negative</td>\n",
       "      <td>political</td>\n",
       "      <td>2016</td>\n",
       "      <td>Fuck Donald Trump</td>\n",
       "      <td>http://genius.com/Yg-and-nipsey-hu-le-fdt-fuck...</td>\n",
       "    </tr>\n",
       "    <tr>\n",
       "      <th>376</th>\n",
       "      <td>378</td>\n",
       "      <td>Donald Trump</td>\n",
       "      <td>It's Goin' Down</td>\n",
       "      <td>Yung Joc</td>\n",
       "      <td>positive</td>\n",
       "      <td>money</td>\n",
       "      <td>2006</td>\n",
       "      <td>Boys from the hood call me black Donald Trump</td>\n",
       "      <td>http://genius.com/Yung-joc-its-goin-down-lyrics</td>\n",
       "    </tr>\n",
       "  </tbody>\n",
       "</table>\n",
       "<p>377 rows × 9 columns</p>\n",
       "</div>"
      ],
      "text/plain": [
       "      id      candidate                     song              artist  \\\n",
       "0      1  Mike Huckabee          None Shall Pass          Aesop Rock   \n",
       "1      2  Mike Huckabee                Wellstone           Soul Khan   \n",
       "2      3       Jeb Bush                      Awe          Dez & Nobs   \n",
       "3      4       Jeb Bush                The Truth            Diabolic   \n",
       "..   ...            ...                      ...                 ...   \n",
       "373  375   Donald Trump                Digest It               Tiara   \n",
       "374  376   Donald Trump        Constantly Hating          Young Thug   \n",
       "375  377   Donald Trump  FDT (Fuck Donald Trump)  YG & Nipsey Hussle   \n",
       "376  378   Donald Trump          It's Goin' Down            Yung Joc   \n",
       "\n",
       "    sentiment      theme  album_release_date  \\\n",
       "0     neutral        NaN                2011   \n",
       "1    negative        NaN                2012   \n",
       "2     neutral        NaN                2006   \n",
       "3    negative  political                2006   \n",
       "..        ...        ...                 ...   \n",
       "373  negative  political                2016   \n",
       "374  positive      money                2015   \n",
       "375  negative  political                2016   \n",
       "376  positive      money                2006   \n",
       "\n",
       "                                                  line  \\\n",
       "0    Wither by the watering hole, Border patrol / W...   \n",
       "1    Might find the door but never touch the key / ...   \n",
       "2           I heard Jeb Bush looking for a (inaudible)   \n",
       "3    What you heard before ain't as big of a lesson...   \n",
       "..                                                 ...   \n",
       "373  The world gon' end real soon, especially if Tr...   \n",
       "374  I've seen more holes than a golf course on Don...   \n",
       "375                                  Fuck Donald Trump   \n",
       "376      Boys from the hood call me black Donald Trump   \n",
       "\n",
       "                                                   url  \n",
       "0    http://genius.com/Aesop-rock-none-shall-pass-l...  \n",
       "1         http://genius.com/Soul-khan-wellstone-lyrics  \n",
       "2            http://genius.com/Dez-and-nobs-awe-lyrics  \n",
       "3          http://genius.com/Diabolic-the-truth-lyrics  \n",
       "..                                                 ...  \n",
       "373     http://genius.com/Royce-da-59-digest-it-lyrics  \n",
       "374  http://genius.com/Young-thug-constantly-hating...  \n",
       "375  http://genius.com/Yg-and-nipsey-hu-le-fdt-fuck...  \n",
       "376    http://genius.com/Yung-joc-its-goin-down-lyrics  \n",
       "\n",
       "[377 rows x 9 columns]"
      ]
     },
     "execution_count": 56,
     "metadata": {},
     "output_type": "execute_result"
    }
   ],
   "source": [
    "df"
   ]
  },
  {
   "cell_type": "code",
   "execution_count": 27,
   "metadata": {},
   "outputs": [],
   "source": [
    "new_col = {\"album_release_date\":\"release_date\"}"
   ]
  },
  {
   "cell_type": "code",
   "execution_count": 28,
   "metadata": {},
   "outputs": [],
   "source": [
    "df.rename(columns=new_col, inplace=True)"
   ]
  },
  {
   "cell_type": "code",
   "execution_count": 9,
   "metadata": {},
   "outputs": [
    {
     "data": {
      "text/html": [
       "<div>\n",
       "<style scoped>\n",
       "    .dataframe tbody tr th:only-of-type {\n",
       "        vertical-align: middle;\n",
       "    }\n",
       "\n",
       "    .dataframe tbody tr th {\n",
       "        vertical-align: top;\n",
       "    }\n",
       "\n",
       "    .dataframe thead th {\n",
       "        text-align: right;\n",
       "    }\n",
       "</style>\n",
       "<table border=\"1\" class=\"dataframe\">\n",
       "  <thead>\n",
       "    <tr style=\"text-align: right;\">\n",
       "      <th></th>\n",
       "      <th>id</th>\n",
       "      <th>candidate</th>\n",
       "      <th>song</th>\n",
       "      <th>artist</th>\n",
       "      <th>sentiment</th>\n",
       "      <th>theme</th>\n",
       "      <th>release_date</th>\n",
       "      <th>line</th>\n",
       "      <th>url</th>\n",
       "    </tr>\n",
       "  </thead>\n",
       "  <tbody>\n",
       "    <tr>\n",
       "      <th>0</th>\n",
       "      <td>1</td>\n",
       "      <td>Mike Huckabee</td>\n",
       "      <td>None Shall Pass</td>\n",
       "      <td>Aesop Rock</td>\n",
       "      <td>neutral</td>\n",
       "      <td>NaN</td>\n",
       "      <td>2011</td>\n",
       "      <td>Wither by the watering hole, Border patrol / W...</td>\n",
       "      <td>http://genius.com/Aesop-rock-none-shall-pass-l...</td>\n",
       "    </tr>\n",
       "    <tr>\n",
       "      <th>1</th>\n",
       "      <td>2</td>\n",
       "      <td>Mike Huckabee</td>\n",
       "      <td>Wellstone</td>\n",
       "      <td>Soul Khan</td>\n",
       "      <td>negative</td>\n",
       "      <td>NaN</td>\n",
       "      <td>2012</td>\n",
       "      <td>Might find the door but never touch the key / ...</td>\n",
       "      <td>http://genius.com/Soul-khan-wellstone-lyrics</td>\n",
       "    </tr>\n",
       "    <tr>\n",
       "      <th>2</th>\n",
       "      <td>3</td>\n",
       "      <td>Jeb Bush</td>\n",
       "      <td>Awe</td>\n",
       "      <td>Dez &amp; Nobs</td>\n",
       "      <td>neutral</td>\n",
       "      <td>NaN</td>\n",
       "      <td>2006</td>\n",
       "      <td>I heard Jeb Bush looking for a (inaudible)</td>\n",
       "      <td>http://genius.com/Dez-and-nobs-awe-lyrics</td>\n",
       "    </tr>\n",
       "    <tr>\n",
       "      <th>3</th>\n",
       "      <td>4</td>\n",
       "      <td>Jeb Bush</td>\n",
       "      <td>The Truth</td>\n",
       "      <td>Diabolic</td>\n",
       "      <td>negative</td>\n",
       "      <td>political</td>\n",
       "      <td>2006</td>\n",
       "      <td>What you heard before ain't as big of a lesson...</td>\n",
       "      <td>http://genius.com/Diabolic-the-truth-lyrics</td>\n",
       "    </tr>\n",
       "    <tr>\n",
       "      <th>4</th>\n",
       "      <td>5</td>\n",
       "      <td>Jeb Bush</td>\n",
       "      <td>Money Man</td>\n",
       "      <td>Gorilla Zoe</td>\n",
       "      <td>negative</td>\n",
       "      <td>personal</td>\n",
       "      <td>2007</td>\n",
       "      <td>I'm comin back from Florida / Wit Jeb Bush and...</td>\n",
       "      <td>http://genius.com/Gorilla-zoe-money-man-lyrics</td>\n",
       "    </tr>\n",
       "    <tr>\n",
       "      <th>...</th>\n",
       "      <td>...</td>\n",
       "      <td>...</td>\n",
       "      <td>...</td>\n",
       "      <td>...</td>\n",
       "      <td>...</td>\n",
       "      <td>...</td>\n",
       "      <td>...</td>\n",
       "      <td>...</td>\n",
       "      <td>...</td>\n",
       "    </tr>\n",
       "    <tr>\n",
       "      <th>372</th>\n",
       "      <td>374</td>\n",
       "      <td>Donald Trump</td>\n",
       "      <td>On the Way</td>\n",
       "      <td>Young Thug</td>\n",
       "      <td>positive</td>\n",
       "      <td>money</td>\n",
       "      <td>2014</td>\n",
       "      <td>Bitches got bumps and I'm rich just like Donal...</td>\n",
       "      <td>http://genius.com/Mpa-duke-on-the-way-lyrics</td>\n",
       "    </tr>\n",
       "    <tr>\n",
       "      <th>373</th>\n",
       "      <td>375</td>\n",
       "      <td>Donald Trump</td>\n",
       "      <td>Digest It</td>\n",
       "      <td>Tiara</td>\n",
       "      <td>negative</td>\n",
       "      <td>political</td>\n",
       "      <td>2016</td>\n",
       "      <td>The world gon' end real soon, especially if Tr...</td>\n",
       "      <td>http://genius.com/Royce-da-59-digest-it-lyrics</td>\n",
       "    </tr>\n",
       "    <tr>\n",
       "      <th>374</th>\n",
       "      <td>376</td>\n",
       "      <td>Donald Trump</td>\n",
       "      <td>Constantly Hating</td>\n",
       "      <td>Young Thug</td>\n",
       "      <td>positive</td>\n",
       "      <td>money</td>\n",
       "      <td>2015</td>\n",
       "      <td>I've seen more holes than a golf course on Don...</td>\n",
       "      <td>http://genius.com/Young-thug-constantly-hating...</td>\n",
       "    </tr>\n",
       "    <tr>\n",
       "      <th>375</th>\n",
       "      <td>377</td>\n",
       "      <td>Donald Trump</td>\n",
       "      <td>FDT (Fuck Donald Trump)</td>\n",
       "      <td>YG &amp; Nipsey Hussle</td>\n",
       "      <td>negative</td>\n",
       "      <td>political</td>\n",
       "      <td>2016</td>\n",
       "      <td>Fuck Donald Trump</td>\n",
       "      <td>http://genius.com/Yg-and-nipsey-hu-le-fdt-fuck...</td>\n",
       "    </tr>\n",
       "    <tr>\n",
       "      <th>376</th>\n",
       "      <td>378</td>\n",
       "      <td>Donald Trump</td>\n",
       "      <td>It's Goin' Down</td>\n",
       "      <td>Yung Joc</td>\n",
       "      <td>positive</td>\n",
       "      <td>money</td>\n",
       "      <td>2006</td>\n",
       "      <td>Boys from the hood call me black Donald Trump</td>\n",
       "      <td>http://genius.com/Yung-joc-its-goin-down-lyrics</td>\n",
       "    </tr>\n",
       "  </tbody>\n",
       "</table>\n",
       "<p>377 rows × 9 columns</p>\n",
       "</div>"
      ],
      "text/plain": [
       "      id      candidate                     song              artist  \\\n",
       "0      1  Mike Huckabee          None Shall Pass          Aesop Rock   \n",
       "1      2  Mike Huckabee                Wellstone           Soul Khan   \n",
       "2      3       Jeb Bush                      Awe          Dez & Nobs   \n",
       "3      4       Jeb Bush                The Truth            Diabolic   \n",
       "4      5       Jeb Bush                Money Man         Gorilla Zoe   \n",
       "..   ...            ...                      ...                 ...   \n",
       "372  374   Donald Trump               On the Way          Young Thug   \n",
       "373  375   Donald Trump                Digest It               Tiara   \n",
       "374  376   Donald Trump        Constantly Hating          Young Thug   \n",
       "375  377   Donald Trump  FDT (Fuck Donald Trump)  YG & Nipsey Hussle   \n",
       "376  378   Donald Trump          It's Goin' Down            Yung Joc   \n",
       "\n",
       "    sentiment      theme  release_date  \\\n",
       "0     neutral        NaN          2011   \n",
       "1    negative        NaN          2012   \n",
       "2     neutral        NaN          2006   \n",
       "3    negative  political          2006   \n",
       "4    negative   personal          2007   \n",
       "..        ...        ...           ...   \n",
       "372  positive      money          2014   \n",
       "373  negative  political          2016   \n",
       "374  positive      money          2015   \n",
       "375  negative  political          2016   \n",
       "376  positive      money          2006   \n",
       "\n",
       "                                                  line  \\\n",
       "0    Wither by the watering hole, Border patrol / W...   \n",
       "1    Might find the door but never touch the key / ...   \n",
       "2           I heard Jeb Bush looking for a (inaudible)   \n",
       "3    What you heard before ain't as big of a lesson...   \n",
       "4    I'm comin back from Florida / Wit Jeb Bush and...   \n",
       "..                                                 ...   \n",
       "372  Bitches got bumps and I'm rich just like Donal...   \n",
       "373  The world gon' end real soon, especially if Tr...   \n",
       "374  I've seen more holes than a golf course on Don...   \n",
       "375                                  Fuck Donald Trump   \n",
       "376      Boys from the hood call me black Donald Trump   \n",
       "\n",
       "                                                   url  \n",
       "0    http://genius.com/Aesop-rock-none-shall-pass-l...  \n",
       "1         http://genius.com/Soul-khan-wellstone-lyrics  \n",
       "2            http://genius.com/Dez-and-nobs-awe-lyrics  \n",
       "3          http://genius.com/Diabolic-the-truth-lyrics  \n",
       "4       http://genius.com/Gorilla-zoe-money-man-lyrics  \n",
       "..                                                 ...  \n",
       "372       http://genius.com/Mpa-duke-on-the-way-lyrics  \n",
       "373     http://genius.com/Royce-da-59-digest-it-lyrics  \n",
       "374  http://genius.com/Young-thug-constantly-hating...  \n",
       "375  http://genius.com/Yg-and-nipsey-hu-le-fdt-fuck...  \n",
       "376    http://genius.com/Yung-joc-its-goin-down-lyrics  \n",
       "\n",
       "[377 rows x 9 columns]"
      ]
     },
     "execution_count": 9,
     "metadata": {},
     "output_type": "execute_result"
    }
   ],
   "source": [
    "df"
   ]
  },
  {
   "cell_type": "code",
   "execution_count": 9,
   "metadata": {},
   "outputs": [
    {
     "data": {
      "text/plain": [
       "377"
      ]
     },
     "execution_count": 9,
     "metadata": {},
     "output_type": "execute_result"
    }
   ],
   "source": [
    "df[\"sentiment\"].count()"
   ]
  },
  {
   "cell_type": "code",
   "execution_count": 10,
   "metadata": {},
   "outputs": [
    {
     "data": {
      "text/plain": [
       "positive    178\n",
       "neutral     128\n",
       "negative     71\n",
       "Name: sentiment, dtype: int64"
      ]
     },
     "execution_count": 10,
     "metadata": {},
     "output_type": "execute_result"
    }
   ],
   "source": [
    "df[\"sentiment\"].value_counts()"
   ]
  },
  {
   "cell_type": "code",
   "execution_count": 11,
   "metadata": {},
   "outputs": [
    {
     "data": {
      "text/plain": [
       "positive    0.472149\n",
       "neutral     0.339523\n",
       "negative    0.188329\n",
       "Name: sentiment, dtype: float64"
      ]
     },
     "execution_count": 11,
     "metadata": {},
     "output_type": "execute_result"
    }
   ],
   "source": [
    "df[\"sentiment\"].value_counts(normalize=True)"
   ]
  },
  {
   "cell_type": "code",
   "execution_count": 12,
   "metadata": {},
   "outputs": [
    {
     "data": {
      "text/plain": [
       "Donald Trump       268\n",
       "Hillary Clinton     92\n",
       "Jeb Bush             9\n",
       "Mike Huckabee        2\n",
       "Bernie Sanders       2\n",
       "Chris Christie       2\n",
       "Ted Cruz             1\n",
       "Ben Carson           1\n",
       "Name: candidate, dtype: int64"
      ]
     },
     "execution_count": 12,
     "metadata": {},
     "output_type": "execute_result"
    }
   ],
   "source": [
    "df[\"candidate\"].value_counts()"
   ]
  },
  {
   "cell_type": "code",
   "execution_count": 14,
   "metadata": {},
   "outputs": [],
   "source": [
    "import csv\n",
    "from collections import Counter"
   ]
  },
  {
   "cell_type": "code",
   "execution_count": 15,
   "metadata": {},
   "outputs": [
    {
     "ename": "UnicodeDecodeError",
     "evalue": "'utf-8' codec can't decode bytes in position 2127-2128: invalid continuation byte",
     "output_type": "error",
     "traceback": [
      "\u001b[0;31m---------------------------------------------------------------------------\u001b[0m",
      "\u001b[0;31mUnicodeDecodeError\u001b[0m                        Traceback (most recent call last)",
      "\u001b[0;32m<ipython-input-15-c95f5bb0d027>\u001b[0m in \u001b[0;36m<module>\u001b[0;34m\u001b[0m\n\u001b[1;32m      3\u001b[0m     \u001b[0mcounter\u001b[0m \u001b[0;34m=\u001b[0m \u001b[0mCounter\u001b[0m\u001b[0;34m(\u001b[0m\u001b[0;34m)\u001b[0m\u001b[0;34m\u001b[0m\u001b[0;34m\u001b[0m\u001b[0m\n\u001b[1;32m      4\u001b[0m \u001b[0;34m\u001b[0m\u001b[0m\n\u001b[0;32m----> 5\u001b[0;31m     \u001b[0;32mfor\u001b[0m \u001b[0mrow\u001b[0m \u001b[0;32min\u001b[0m \u001b[0mreader\u001b[0m\u001b[0;34m:\u001b[0m\u001b[0;34m\u001b[0m\u001b[0;34m\u001b[0m\u001b[0m\n\u001b[0m\u001b[1;32m      6\u001b[0m         \u001b[0mcounter\u001b[0m\u001b[0;34m.\u001b[0m\u001b[0mupdate\u001b[0m\u001b[0;34m(\u001b[0m\u001b[0mrow\u001b[0m\u001b[0;34m[\u001b[0m\u001b[0;34m\"candidate\"\u001b[0m\u001b[0;34m]\u001b[0m\u001b[0;34m.\u001b[0m\u001b[0msplit\u001b[0m\u001b[0;34m(\u001b[0m\u001b[0;34m\";\"\u001b[0m\u001b[0;34m)\u001b[0m\u001b[0;34m)\u001b[0m\u001b[0;34m\u001b[0m\u001b[0;34m\u001b[0m\u001b[0m\n\u001b[1;32m      7\u001b[0m \u001b[0;34m\u001b[0m\u001b[0m\n",
      "\u001b[0;32m~/opt/anaconda3/lib/python3.8/csv.py\u001b[0m in \u001b[0;36m__next__\u001b[0;34m(self)\u001b[0m\n\u001b[1;32m    108\u001b[0m         \u001b[0;32mif\u001b[0m \u001b[0mself\u001b[0m\u001b[0;34m.\u001b[0m\u001b[0mline_num\u001b[0m \u001b[0;34m==\u001b[0m \u001b[0;36m0\u001b[0m\u001b[0;34m:\u001b[0m\u001b[0;34m\u001b[0m\u001b[0;34m\u001b[0m\u001b[0m\n\u001b[1;32m    109\u001b[0m             \u001b[0;31m# Used only for its side effect.\u001b[0m\u001b[0;34m\u001b[0m\u001b[0;34m\u001b[0m\u001b[0;34m\u001b[0m\u001b[0m\n\u001b[0;32m--> 110\u001b[0;31m             \u001b[0mself\u001b[0m\u001b[0;34m.\u001b[0m\u001b[0mfieldnames\u001b[0m\u001b[0;34m\u001b[0m\u001b[0;34m\u001b[0m\u001b[0m\n\u001b[0m\u001b[1;32m    111\u001b[0m         \u001b[0mrow\u001b[0m \u001b[0;34m=\u001b[0m \u001b[0mnext\u001b[0m\u001b[0;34m(\u001b[0m\u001b[0mself\u001b[0m\u001b[0;34m.\u001b[0m\u001b[0mreader\u001b[0m\u001b[0;34m)\u001b[0m\u001b[0;34m\u001b[0m\u001b[0;34m\u001b[0m\u001b[0m\n\u001b[1;32m    112\u001b[0m         \u001b[0mself\u001b[0m\u001b[0;34m.\u001b[0m\u001b[0mline_num\u001b[0m \u001b[0;34m=\u001b[0m \u001b[0mself\u001b[0m\u001b[0;34m.\u001b[0m\u001b[0mreader\u001b[0m\u001b[0;34m.\u001b[0m\u001b[0mline_num\u001b[0m\u001b[0;34m\u001b[0m\u001b[0;34m\u001b[0m\u001b[0m\n",
      "\u001b[0;32m~/opt/anaconda3/lib/python3.8/csv.py\u001b[0m in \u001b[0;36mfieldnames\u001b[0;34m(self)\u001b[0m\n\u001b[1;32m     95\u001b[0m         \u001b[0;32mif\u001b[0m \u001b[0mself\u001b[0m\u001b[0;34m.\u001b[0m\u001b[0m_fieldnames\u001b[0m \u001b[0;32mis\u001b[0m \u001b[0;32mNone\u001b[0m\u001b[0;34m:\u001b[0m\u001b[0;34m\u001b[0m\u001b[0;34m\u001b[0m\u001b[0m\n\u001b[1;32m     96\u001b[0m             \u001b[0;32mtry\u001b[0m\u001b[0;34m:\u001b[0m\u001b[0;34m\u001b[0m\u001b[0;34m\u001b[0m\u001b[0m\n\u001b[0;32m---> 97\u001b[0;31m                 \u001b[0mself\u001b[0m\u001b[0;34m.\u001b[0m\u001b[0m_fieldnames\u001b[0m \u001b[0;34m=\u001b[0m \u001b[0mnext\u001b[0m\u001b[0;34m(\u001b[0m\u001b[0mself\u001b[0m\u001b[0;34m.\u001b[0m\u001b[0mreader\u001b[0m\u001b[0;34m)\u001b[0m\u001b[0;34m\u001b[0m\u001b[0;34m\u001b[0m\u001b[0m\n\u001b[0m\u001b[1;32m     98\u001b[0m             \u001b[0;32mexcept\u001b[0m \u001b[0mStopIteration\u001b[0m\u001b[0;34m:\u001b[0m\u001b[0;34m\u001b[0m\u001b[0;34m\u001b[0m\u001b[0m\n\u001b[1;32m     99\u001b[0m                 \u001b[0;32mpass\u001b[0m\u001b[0;34m\u001b[0m\u001b[0;34m\u001b[0m\u001b[0m\n",
      "\u001b[0;32m~/opt/anaconda3/lib/python3.8/codecs.py\u001b[0m in \u001b[0;36mdecode\u001b[0;34m(self, input, final)\u001b[0m\n\u001b[1;32m    320\u001b[0m         \u001b[0;31m# decode input (taking the buffer into account)\u001b[0m\u001b[0;34m\u001b[0m\u001b[0;34m\u001b[0m\u001b[0;34m\u001b[0m\u001b[0m\n\u001b[1;32m    321\u001b[0m         \u001b[0mdata\u001b[0m \u001b[0;34m=\u001b[0m \u001b[0mself\u001b[0m\u001b[0;34m.\u001b[0m\u001b[0mbuffer\u001b[0m \u001b[0;34m+\u001b[0m \u001b[0minput\u001b[0m\u001b[0;34m\u001b[0m\u001b[0;34m\u001b[0m\u001b[0m\n\u001b[0;32m--> 322\u001b[0;31m         \u001b[0;34m(\u001b[0m\u001b[0mresult\u001b[0m\u001b[0;34m,\u001b[0m \u001b[0mconsumed\u001b[0m\u001b[0;34m)\u001b[0m \u001b[0;34m=\u001b[0m \u001b[0mself\u001b[0m\u001b[0;34m.\u001b[0m\u001b[0m_buffer_decode\u001b[0m\u001b[0;34m(\u001b[0m\u001b[0mdata\u001b[0m\u001b[0;34m,\u001b[0m \u001b[0mself\u001b[0m\u001b[0;34m.\u001b[0m\u001b[0merrors\u001b[0m\u001b[0;34m,\u001b[0m \u001b[0mfinal\u001b[0m\u001b[0;34m)\u001b[0m\u001b[0;34m\u001b[0m\u001b[0;34m\u001b[0m\u001b[0m\n\u001b[0m\u001b[1;32m    323\u001b[0m         \u001b[0;31m# keep undecoded input until the next call\u001b[0m\u001b[0;34m\u001b[0m\u001b[0;34m\u001b[0m\u001b[0;34m\u001b[0m\u001b[0m\n\u001b[1;32m    324\u001b[0m         \u001b[0mself\u001b[0m\u001b[0;34m.\u001b[0m\u001b[0mbuffer\u001b[0m \u001b[0;34m=\u001b[0m \u001b[0mdata\u001b[0m\u001b[0;34m[\u001b[0m\u001b[0mconsumed\u001b[0m\u001b[0;34m:\u001b[0m\u001b[0;34m]\u001b[0m\u001b[0;34m\u001b[0m\u001b[0;34m\u001b[0m\u001b[0m\n",
      "\u001b[0;31mUnicodeDecodeError\u001b[0m: 'utf-8' codec can't decode bytes in position 2127-2128: invalid continuation byte"
     ]
    }
   ],
   "source": [
    "with open(\"genius_hip_hop_lyrics.csv\") as csv_file:\n",
    "    reader = csv.DictReader(csv_file)\n",
    "    counter = Counter()\n",
    "    \n",
    "    for row in reader:\n",
    "        counter.update(row[\"candidate\"].split(\";\"))\n",
    "\n",
    "\n",
    "### sürekli bu erroru alıyorum ve asla düzeltemedim.\n",
    "### Bu sebeple grafikleri yapamadım."
   ]
  },
  {
   "cell_type": "code",
   "execution_count": 16,
   "metadata": {},
   "outputs": [],
   "source": [
    "candidate_group = df.groupby([\"candidate\"])"
   ]
  },
  {
   "cell_type": "code",
   "execution_count": 17,
   "metadata": {},
   "outputs": [
    {
     "data": {
      "text/plain": [
       "<pandas.core.groupby.generic.DataFrameGroupBy object at 0x7fcfab244a60>"
      ]
     },
     "execution_count": 17,
     "metadata": {},
     "output_type": "execute_result"
    }
   ],
   "source": [
    "candidate_group"
   ]
  },
  {
   "cell_type": "code",
   "execution_count": 29,
   "metadata": {},
   "outputs": [],
   "source": [
    "filt = df[\"candidate\"] == \"Donald Trump\""
   ]
  },
  {
   "cell_type": "code",
   "execution_count": 30,
   "metadata": {},
   "outputs": [],
   "source": [
    "filt_2 = df[\"candidate\"] == \"Hillary Clinton\""
   ]
  },
  {
   "cell_type": "code",
   "execution_count": 31,
   "metadata": {},
   "outputs": [],
   "source": [
    "filt_3 = df[\"candidate\"] == \"Jeb Bush\""
   ]
  },
  {
   "cell_type": "code",
   "execution_count": 21,
   "metadata": {},
   "outputs": [
    {
     "data": {
      "text/html": [
       "<div>\n",
       "<style scoped>\n",
       "    .dataframe tbody tr th:only-of-type {\n",
       "        vertical-align: middle;\n",
       "    }\n",
       "\n",
       "    .dataframe tbody tr th {\n",
       "        vertical-align: top;\n",
       "    }\n",
       "\n",
       "    .dataframe thead th {\n",
       "        text-align: right;\n",
       "    }\n",
       "</style>\n",
       "<table border=\"1\" class=\"dataframe\">\n",
       "  <thead>\n",
       "    <tr style=\"text-align: right;\">\n",
       "      <th></th>\n",
       "      <th>id</th>\n",
       "      <th>candidate</th>\n",
       "      <th>song</th>\n",
       "      <th>artist</th>\n",
       "      <th>sentiment</th>\n",
       "      <th>theme</th>\n",
       "      <th>release_date</th>\n",
       "      <th>line</th>\n",
       "      <th>url</th>\n",
       "    </tr>\n",
       "  </thead>\n",
       "  <tbody>\n",
       "    <tr>\n",
       "      <th>109</th>\n",
       "      <td>111</td>\n",
       "      <td>Donald Trump</td>\n",
       "      <td>Johnny Ryall</td>\n",
       "      <td>Beastie Boys</td>\n",
       "      <td>neutral</td>\n",
       "      <td>NaN</td>\n",
       "      <td>1989</td>\n",
       "      <td>Donald Trump and Donald Tramp living in the me...</td>\n",
       "      <td>http://genius.com/Beastie-boys-johnny-ryall-ly...</td>\n",
       "    </tr>\n",
       "    <tr>\n",
       "      <th>110</th>\n",
       "      <td>112</td>\n",
       "      <td>Donald Trump</td>\n",
       "      <td>Protect Ya Neck II the Zoo</td>\n",
       "      <td>12 O'Clock - Brooklyn Zu</td>\n",
       "      <td>positive</td>\n",
       "      <td>money</td>\n",
       "      <td>1995</td>\n",
       "      <td>Given the power punch, soon to be paid like Do...</td>\n",
       "      <td>http://genius.com/Ol-dirty-bastard-protect-ya-...</td>\n",
       "    </tr>\n",
       "    <tr>\n",
       "      <th>111</th>\n",
       "      <td>113</td>\n",
       "      <td>Donald Trump</td>\n",
       "      <td>My Word Is Bond</td>\n",
       "      <td>Donald D</td>\n",
       "      <td>positive</td>\n",
       "      <td>NaN</td>\n",
       "      <td>1989</td>\n",
       "      <td>And after that me and Donald Trump hung out / ...</td>\n",
       "      <td>http://genius.com/Ice-t-my-word-is-bond-lyrics</td>\n",
       "    </tr>\n",
       "    <tr>\n",
       "      <th>112</th>\n",
       "      <td>114</td>\n",
       "      <td>Donald Trump</td>\n",
       "      <td>50/Banks</td>\n",
       "      <td>50 Cent</td>\n",
       "      <td>positive</td>\n",
       "      <td>money</td>\n",
       "      <td>2002</td>\n",
       "      <td>We can talk Trump talk, real estate, stocks, a...</td>\n",
       "      <td>http://genius.com/50-cent-50-banks-lyrics</td>\n",
       "    </tr>\n",
       "    <tr>\n",
       "      <th>113</th>\n",
       "      <td>115</td>\n",
       "      <td>Donald Trump</td>\n",
       "      <td>Skill Trade</td>\n",
       "      <td>Nice</td>\n",
       "      <td>positive</td>\n",
       "      <td>money</td>\n",
       "      <td>1990</td>\n",
       "      <td>I'm not rich like Donald Trump</td>\n",
       "      <td>http://genius.com/Nice-skill-trade-lyrics</td>\n",
       "    </tr>\n",
       "    <tr>\n",
       "      <th>...</th>\n",
       "      <td>...</td>\n",
       "      <td>...</td>\n",
       "      <td>...</td>\n",
       "      <td>...</td>\n",
       "      <td>...</td>\n",
       "      <td>...</td>\n",
       "      <td>...</td>\n",
       "      <td>...</td>\n",
       "      <td>...</td>\n",
       "    </tr>\n",
       "    <tr>\n",
       "      <th>372</th>\n",
       "      <td>374</td>\n",
       "      <td>Donald Trump</td>\n",
       "      <td>On the Way</td>\n",
       "      <td>Young Thug</td>\n",
       "      <td>positive</td>\n",
       "      <td>money</td>\n",
       "      <td>2014</td>\n",
       "      <td>Bitches got bumps and I'm rich just like Donal...</td>\n",
       "      <td>http://genius.com/Mpa-duke-on-the-way-lyrics</td>\n",
       "    </tr>\n",
       "    <tr>\n",
       "      <th>373</th>\n",
       "      <td>375</td>\n",
       "      <td>Donald Trump</td>\n",
       "      <td>Digest It</td>\n",
       "      <td>Tiara</td>\n",
       "      <td>negative</td>\n",
       "      <td>political</td>\n",
       "      <td>2016</td>\n",
       "      <td>The world gon' end real soon, especially if Tr...</td>\n",
       "      <td>http://genius.com/Royce-da-59-digest-it-lyrics</td>\n",
       "    </tr>\n",
       "    <tr>\n",
       "      <th>374</th>\n",
       "      <td>376</td>\n",
       "      <td>Donald Trump</td>\n",
       "      <td>Constantly Hating</td>\n",
       "      <td>Young Thug</td>\n",
       "      <td>positive</td>\n",
       "      <td>money</td>\n",
       "      <td>2015</td>\n",
       "      <td>I've seen more holes than a golf course on Don...</td>\n",
       "      <td>http://genius.com/Young-thug-constantly-hating...</td>\n",
       "    </tr>\n",
       "    <tr>\n",
       "      <th>375</th>\n",
       "      <td>377</td>\n",
       "      <td>Donald Trump</td>\n",
       "      <td>FDT (Fuck Donald Trump)</td>\n",
       "      <td>YG &amp; Nipsey Hussle</td>\n",
       "      <td>negative</td>\n",
       "      <td>political</td>\n",
       "      <td>2016</td>\n",
       "      <td>Fuck Donald Trump</td>\n",
       "      <td>http://genius.com/Yg-and-nipsey-hu-le-fdt-fuck...</td>\n",
       "    </tr>\n",
       "    <tr>\n",
       "      <th>376</th>\n",
       "      <td>378</td>\n",
       "      <td>Donald Trump</td>\n",
       "      <td>It's Goin' Down</td>\n",
       "      <td>Yung Joc</td>\n",
       "      <td>positive</td>\n",
       "      <td>money</td>\n",
       "      <td>2006</td>\n",
       "      <td>Boys from the hood call me black Donald Trump</td>\n",
       "      <td>http://genius.com/Yung-joc-its-goin-down-lyrics</td>\n",
       "    </tr>\n",
       "  </tbody>\n",
       "</table>\n",
       "<p>268 rows × 9 columns</p>\n",
       "</div>"
      ],
      "text/plain": [
       "      id     candidate                        song                    artist  \\\n",
       "109  111  Donald Trump                Johnny Ryall              Beastie Boys   \n",
       "110  112  Donald Trump  Protect Ya Neck II the Zoo  12 O'Clock - Brooklyn Zu   \n",
       "111  113  Donald Trump             My Word Is Bond                  Donald D   \n",
       "112  114  Donald Trump                    50/Banks                   50 Cent   \n",
       "113  115  Donald Trump                 Skill Trade                      Nice   \n",
       "..   ...           ...                         ...                       ...   \n",
       "372  374  Donald Trump                  On the Way                Young Thug   \n",
       "373  375  Donald Trump                   Digest It                     Tiara   \n",
       "374  376  Donald Trump           Constantly Hating                Young Thug   \n",
       "375  377  Donald Trump     FDT (Fuck Donald Trump)        YG & Nipsey Hussle   \n",
       "376  378  Donald Trump             It's Goin' Down                  Yung Joc   \n",
       "\n",
       "    sentiment      theme  release_date  \\\n",
       "109   neutral        NaN          1989   \n",
       "110  positive      money          1995   \n",
       "111  positive        NaN          1989   \n",
       "112  positive      money          2002   \n",
       "113  positive      money          1990   \n",
       "..        ...        ...           ...   \n",
       "372  positive      money          2014   \n",
       "373  negative  political          2016   \n",
       "374  positive      money          2015   \n",
       "375  negative  political          2016   \n",
       "376  positive      money          2006   \n",
       "\n",
       "                                                  line  \\\n",
       "109  Donald Trump and Donald Tramp living in the me...   \n",
       "110  Given the power punch, soon to be paid like Do...   \n",
       "111  And after that me and Donald Trump hung out / ...   \n",
       "112  We can talk Trump talk, real estate, stocks, a...   \n",
       "113                     I'm not rich like Donald Trump   \n",
       "..                                                 ...   \n",
       "372  Bitches got bumps and I'm rich just like Donal...   \n",
       "373  The world gon' end real soon, especially if Tr...   \n",
       "374  I've seen more holes than a golf course on Don...   \n",
       "375                                  Fuck Donald Trump   \n",
       "376      Boys from the hood call me black Donald Trump   \n",
       "\n",
       "                                                   url  \n",
       "109  http://genius.com/Beastie-boys-johnny-ryall-ly...  \n",
       "110  http://genius.com/Ol-dirty-bastard-protect-ya-...  \n",
       "111     http://genius.com/Ice-t-my-word-is-bond-lyrics  \n",
       "112          http://genius.com/50-cent-50-banks-lyrics  \n",
       "113          http://genius.com/Nice-skill-trade-lyrics  \n",
       "..                                                 ...  \n",
       "372       http://genius.com/Mpa-duke-on-the-way-lyrics  \n",
       "373     http://genius.com/Royce-da-59-digest-it-lyrics  \n",
       "374  http://genius.com/Young-thug-constantly-hating...  \n",
       "375  http://genius.com/Yg-and-nipsey-hu-le-fdt-fuck...  \n",
       "376    http://genius.com/Yung-joc-its-goin-down-lyrics  \n",
       "\n",
       "[268 rows x 9 columns]"
      ]
     },
     "execution_count": 21,
     "metadata": {},
     "output_type": "execute_result"
    }
   ],
   "source": [
    "df.loc[filt]"
   ]
  },
  {
   "cell_type": "code",
   "execution_count": 32,
   "metadata": {},
   "outputs": [
    {
     "data": {
      "text/plain": [
       "positive    160\n",
       "neutral      74\n",
       "negative     34\n",
       "Name: sentiment, dtype: int64"
      ]
     },
     "execution_count": 32,
     "metadata": {},
     "output_type": "execute_result"
    }
   ],
   "source": [
    "df.loc[filt][\"sentiment\"].value_counts()"
   ]
  },
  {
   "cell_type": "code",
   "execution_count": 33,
   "metadata": {},
   "outputs": [
    {
     "data": {
      "text/plain": [
       "neutral     47\n",
       "negative    29\n",
       "positive    16\n",
       "Name: sentiment, dtype: int64"
      ]
     },
     "execution_count": 33,
     "metadata": {},
     "output_type": "execute_result"
    }
   ],
   "source": [
    "df.loc[filt_2][\"sentiment\"].value_counts()"
   ]
  },
  {
   "cell_type": "code",
   "execution_count": 34,
   "metadata": {},
   "outputs": [
    {
     "data": {
      "text/plain": [
       "negative    5\n",
       "neutral     4\n",
       "Name: sentiment, dtype: int64"
      ]
     },
     "execution_count": 34,
     "metadata": {},
     "output_type": "execute_result"
    }
   ],
   "source": [
    "df.loc[filt_3][\"sentiment\"].value_counts()"
   ]
  },
  {
   "cell_type": "code",
   "execution_count": 37,
   "metadata": {},
   "outputs": [
    {
     "name": "stdout",
     "output_type": "stream",
     "text": [
      "sentiment  theme         \n",
      "negative   money              1\n",
      "           personal           5\n",
      "           political         18\n",
      "neutral    The Apprentice    18\n",
      "           hotel              7\n",
      "           money             14\n",
      "           personal           5\n",
      "           political          5\n",
      "           power              1\n",
      "           sexual             1\n",
      "positive   hotel             61\n",
      "           money             87\n",
      "           personal           5\n",
      "           political          1\n",
      "           power              1\n",
      "Name: release_date, dtype: int64\n"
     ]
    }
   ],
   "source": [
    "new_df = df.groupby([\"candidate\", \"sentiment\", \"theme\",]).count()[\"release_date\"][\"Donald Trump\"]\n",
    "print(new_df)\n"
   ]
  },
  {
   "cell_type": "code",
   "execution_count": 38,
   "metadata": {},
   "outputs": [
    {
     "name": "stdout",
     "output_type": "stream",
     "text": [
      "sentiment  theme      release_date\n",
      "negative   personal   1993            1\n",
      "                      1994            1\n",
      "                      2001            1\n",
      "                      2002            1\n",
      "                      2008            2\n",
      "                      2013            1\n",
      "           political  1993            1\n",
      "                      1996            1\n",
      "                      1998            1\n",
      "                      2004            1\n",
      "                      2008            5\n",
      "                      2009            1\n",
      "                      2012            2\n",
      "                      2015            1\n",
      "           sexual     1994            1\n",
      "                      2011            1\n",
      "neutral    money      1996            1\n",
      "           personal   1997            1\n",
      "                      1998            1\n",
      "                      1999            1\n",
      "                      2000            1\n",
      "                      2004            1\n",
      "                      2007            1\n",
      "                      2008            2\n",
      "                      2009            1\n",
      "                      2011            2\n",
      "                      2012            4\n",
      "                      2013            2\n",
      "                      2014            1\n",
      "           political  1999            1\n",
      "                      2008            3\n",
      "                      2015            1\n",
      "           sexual     2013            1\n",
      "positive   money      2007            1\n",
      "                      2010            1\n",
      "                      2012            1\n",
      "                      2014            1\n",
      "           personal   2000            1\n",
      "                      2009            1\n",
      "                      2010            1\n",
      "                      2014            1\n",
      "           political  2010            1\n",
      "                      2011            1\n",
      "                      2016            1\n",
      "Name: song, dtype: int64\n"
     ]
    }
   ],
   "source": [
    "new_df = df.groupby([\"candidate\", \"sentiment\", \"theme\", \"release_date\"]).count()[\"song\"][\"Hillary Clinton\"]\n",
    "print(new_df)"
   ]
  },
  {
   "cell_type": "code",
   "execution_count": 39,
   "metadata": {},
   "outputs": [],
   "source": [
    "df.dropna(inplace=True)"
   ]
  },
  {
   "cell_type": "code",
   "execution_count": 40,
   "metadata": {},
   "outputs": [
    {
     "data": {
      "text/plain": [
       "money             102\n",
       "hotel              68\n",
       "political          24\n",
       "The Apprentice     18\n",
       "personal           15\n",
       "power               2\n",
       "sexual              1\n",
       "Name: theme, dtype: int64"
      ]
     },
     "execution_count": 40,
     "metadata": {},
     "output_type": "execute_result"
    }
   ],
   "source": [
    "df.loc[filt][\"theme\"].value_counts()"
   ]
  },
  {
   "cell_type": "code",
   "execution_count": 41,
   "metadata": {},
   "outputs": [
    {
     "data": {
      "text/plain": [
       "personal     29\n",
       "political    21\n",
       "money         5\n",
       "sexual        3\n",
       "Name: theme, dtype: int64"
      ]
     },
     "execution_count": 41,
     "metadata": {},
     "output_type": "execute_result"
    }
   ],
   "source": [
    "df.loc[filt_2][\"theme\"].value_counts()"
   ]
  }
 ],
 "metadata": {
  "kernelspec": {
   "display_name": "Python 3",
   "language": "python",
   "name": "python3"
  },
  "language_info": {
   "codemirror_mode": {
    "name": "ipython",
    "version": 3
   },
   "file_extension": ".py",
   "mimetype": "text/x-python",
   "name": "python",
   "nbconvert_exporter": "python",
   "pygments_lexer": "ipython3",
   "version": "3.8.5"
  }
 },
 "nbformat": 4,
 "nbformat_minor": 4
}
