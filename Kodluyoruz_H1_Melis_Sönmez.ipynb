{
 "cells": [
  {
   "cell_type": "markdown",
   "metadata": {},
   "source": [
    "###### 26.11.2020                                                                               \n",
    "#### MELİS SÖNMEZ  \n",
    "#### HOMEWORK 1"
   ]
  },
  {
   "cell_type": "markdown",
   "metadata": {},
   "source": [
    "##### QUESTION 1"
   ]
  },
  {
   "cell_type": "code",
   "execution_count": 1,
   "metadata": {},
   "outputs": [],
   "source": [
    "M = [[11, 12, 13, 14], [21, 22, 23, 24], [31, 32, 33, 34]]"
   ]
  },
  {
   "cell_type": "code",
   "execution_count": 2,
   "metadata": {},
   "outputs": [
    {
     "name": "stdout",
     "output_type": "stream",
     "text": [
      "[[12, 11, 13, 14], [22, 21, 23, 24], [32, 31, 33, 34]]\n"
     ]
    }
   ],
   "source": [
    "for i in range(len(M)):\n",
    "    M[i].insert(0,M[i][1])\n",
    "    M[i].pop(2)\n",
    "print(M)"
   ]
  },
  {
   "cell_type": "markdown",
   "metadata": {},
   "source": [
    "##### QUESTION 2"
   ]
  },
  {
   "cell_type": "code",
   "execution_count": 60,
   "metadata": {},
   "outputs": [],
   "source": [
    "M = [[0, 3, 2, 4], [2, 7, 5, 9], [6, 1, 2, 3]]"
   ]
  },
  {
   "cell_type": "code",
   "execution_count": 61,
   "metadata": {},
   "outputs": [],
   "source": [
    "pos = [0,0]\n",
    "\n",
    "for i in range(len(M)):\n",
    "    M[i].sort()\n",
    "    M[i].reverse()\n",
    "\n",
    "M.sort()\n",
    "M.reverse()"
   ]
  },
  {
   "cell_type": "code",
   "execution_count": 62,
   "metadata": {},
   "outputs": [
    {
     "data": {
      "text/plain": [
       "[[9, 7, 5, 2], [6, 3, 2, 1], [4, 3, 2, 0]]"
      ]
     },
     "execution_count": 62,
     "metadata": {},
     "output_type": "execute_result"
    }
   ],
   "source": [
    "M"
   ]
  },
  {
   "cell_type": "code",
   "execution_count": 63,
   "metadata": {},
   "outputs": [
    {
     "name": "stdout",
     "output_type": "stream",
     "text": [
      "[9, 7, 5, 2]\n",
      "9\n",
      "(0, 0)\n"
     ]
    }
   ],
   "source": [
    "print(max(M))\n",
    "print(max(M[0]))\n",
    "print((M.index(M[0]),M[0].index(9)))"
   ]
  },
  {
   "cell_type": "markdown",
   "metadata": {},
   "source": [
    "##### QUESTION 3"
   ]
  },
  {
   "cell_type": "code",
   "execution_count": 594,
   "metadata": {},
   "outputs": [],
   "source": [
    "l1 = [5, 3, 3, 10, 40]\n",
    "\n",
    "l2 = [40, 3, 40, 1, 2]"
   ]
  },
  {
   "cell_type": "code",
   "execution_count": 595,
   "metadata": {},
   "outputs": [
    {
     "data": {
      "text/plain": [
       "6"
      ]
     },
     "execution_count": 595,
     "metadata": {},
     "output_type": "execute_result"
    }
   ],
   "source": [
    "import pandas as pd\n",
    "\n",
    "l1.extend(l2)\n",
    "\n",
    "pd.Series(l1).nunique()"
   ]
  },
  {
   "cell_type": "markdown",
   "metadata": {},
   "source": [
    "##### QUESTION 4"
   ]
  },
  {
   "cell_type": "code",
   "execution_count": 33,
   "metadata": {},
   "outputs": [],
   "source": [
    "students = {\"Jane\":{\"grade\":90, \"student_number\":4012}, \n",
    "            \"Pat\":{\"grade\":81, \"student_number\":4052},\n",
    "            \"Denis\":{\"grade\":70, \"student_number\":4089},\n",
    "            \"Max\":{\"grade\":72,\"student_number\":4322},\n",
    "            \"Lara\":{\"grade\":74,\"student_number\":4042}}"
   ]
  },
  {
   "cell_type": "code",
   "execution_count": 38,
   "metadata": {},
   "outputs": [
    {
     "name": "stdout",
     "output_type": "stream",
     "text": [
      "Grade(s) of  Denis, Max, Lara are above the average \n",
      "Grade(s) of  Jane, Pat are below the average \n",
      "Grade(s) of   are equal to the mean \n"
     ]
    }
   ],
   "source": [
    "average = (sum(students[person]['grade'] for person in students))/len (students)\n",
    "upperList = []\n",
    "lowerList = []\n",
    "sameList = []\n",
    "\n",
    "for person in students:\n",
    "    if students[person]['grade'] < average:\n",
    "        upperList.append(person)\n",
    "        \n",
    "    elif students[person]['grade'] == average:\n",
    "        sameList.append(person)\n",
    "       \n",
    "    else: \n",
    "        lowerList.append(person)\n",
    "        \n",
    "print(\"Grade(s) of \", ', '.join(upperList), \"are above the average \")\n",
    "print(\"Grade(s) of \", ', '.join(lowerList), \"are below the average \")\n",
    "print(\"Grade(s) of \", ', '.join(sameList), \"are equal to the mean \")"
   ]
  },
  {
   "cell_type": "markdown",
   "metadata": {},
   "source": [
    "##### QUESTION 5"
   ]
  },
  {
   "cell_type": "code",
   "execution_count": null,
   "metadata": {},
   "outputs": [],
   "source": [
    "tickets = 200\n",
    "\n",
    "while True:\n",
    "    bought_tickets = int(input(\"Tickets: \" ))\n",
    "    tickets = tickets - bought_tickets\n",
    "    \n",
    "    if tickets >= 4:\n",
    "        print(f\"{tickets} remaining\")\n",
    "        print(\"How many do you want to buy?\")\n",
    "        print(\"Minimum 1, Maximum 4\")\n",
    "        \n",
    "    elif tickets == 3:\n",
    "        print(f\"{tickets} remaining\")\n",
    "        print(\"How many do you want to buy?\")\n",
    "        print(\"Minimum 1, Maximum 3\")\n",
    "        \n",
    "    elif tickets == 2:\n",
    "        print(f\"{tickets} remaining\")\n",
    "        print(\"How many do you want to buy?\")\n",
    "        print(\"Minimum 1, Maximum 2\")\n",
    "        \n",
    "    elif tickets == 1:\n",
    "        print(f\"{tickets} remaining\")\n",
    "        print(\"How many do you want to buy?\")\n",
    "        print(\"Maximum 1\")\n",
    "        \n",
    "    else: \n",
    "        print(\"SOLD OUT\")\n",
    "            \n",
    "    \n",
    "    "
   ]
  }
 ],
 "metadata": {
  "kernelspec": {
   "display_name": "Python 3",
   "language": "python",
   "name": "python3"
  },
  "language_info": {
   "codemirror_mode": {
    "name": "ipython",
    "version": 3
   },
   "file_extension": ".py",
   "mimetype": "text/x-python",
   "name": "python",
   "nbconvert_exporter": "python",
   "pygments_lexer": "ipython3",
   "version": "3.8.3"
  }
 },
 "nbformat": 4,
 "nbformat_minor": 4
}
